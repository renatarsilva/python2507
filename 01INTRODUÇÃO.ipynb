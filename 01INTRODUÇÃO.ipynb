{
  "cells": [
    {
      "cell_type": "markdown",
      "metadata": {
        "id": "view-in-github",
        "colab_type": "text"
      },
      "source": [
        "<a href=\"https://colab.research.google.com/github/renatarsilva/python2507/blob/main/01INTRODU%C3%87%C3%83O.ipynb\" target=\"_parent\"><img src=\"https://colab.research.google.com/assets/colab-badge.svg\" alt=\"Open In Colab\"/></a>"
      ]
    },
    {
      "cell_type": "code",
      "execution_count": null,
      "metadata": {
        "colab": {
          "base_uri": "https://localhost:8080/"
        },
        "id": "M4ndZqBsET-x",
        "outputId": "e6926a71-7ec2-47fd-a7f3-1d3e02c66bdd"
      },
      "outputs": [
        {
          "name": "stdout",
          "output_type": "stream",
          "text": [
            "HELLO WORLD\n",
            "my name is Renata, but my nickname is Maki\n"
          ]
        }
      ],
      "source": [
        "print('HELLO WORLD')\n",
        "print(\"my name is Renata, but my nickname is Maki\")"
      ]
    },
    {
      "cell_type": "markdown",
      "metadata": {
        "id": "-i8Cdmb0HXxX"
      },
      "source": [
        "Algoritmo lanche\n",
        "Passo 01: abrir armario\n",
        "PAsso 02: Pegar prato\n",
        "Passo 03: Colocar prato sob a mesa\n",
        "Passo 04: Fechar armario\n",
        "Passo 05: Abrir saco de pão\n",
        "Passo 06: Pegar uma fatia de pão\n",
        "Passo 07: Coloca-la sobre o prato\n",
        "Passo 08: Abrir geladeira\n",
        "Passo 09: pegar alface, presunto, queijo e tomate\n",
        "Passo 10: Fechar geladeira\n",
        "Passo 11: Pegar uma folha de alface\n",
        "Passo 12: Colocar folha de alface sobre o pao\n",
        "Passo 13: Colocar fatia de presunto sobre folha de alface\n",
        "Passo 14: Colocar fatia de queijo sobre fatia de presunto\n",
        "Passo 15: Colocar pedacos de tomate sob fatia de queijo\n",
        "Passo 16: Pegar fatia de pao\n",
        "Passo 17: Colocar sob fatia de queijo\n",
        "PAsso 18: servir lanche"
      ]
    },
    {
      "cell_type": "markdown",
      "metadata": {
        "id": "04atA64SVlmQ"
      },
      "source": [
        "Abstração lógica - cafeteira\n",
        "\n",
        "Botao on/off - Liga e desliga\n",
        "motor\n",
        "Reservatorio de agua - armazena água\n",
        "condensador - condesa vapor\n",
        "deposito - para pó de café\n",
        "Filtro - Filtrar o pó\n",
        "jarra - para armazenar o liquido, pós filtro"
      ]
    },
    {
      "cell_type": "markdown",
      "metadata": {
        "id": "fD_Kmr2_bTzc"
      },
      "source": [
        "Lógica - barril\n",
        "\n",
        "Passo 01: Despejar todo líquido do barril C, no barril A\n",
        "Passo 02: Despejar 1 Litro do líquido do barril B, no barril A\n",
        "Passo 03: Verificar se barris A e B. estão com 4 litros de líquido em cada\n",
        "Passo 04: Verificar se barril C, está vazio\n"
      ]
    },
    {
      "cell_type": "code",
      "execution_count": null,
      "metadata": {
        "colab": {
          "base_uri": "https://localhost:8080/"
        },
        "id": "dbPaaODffzCd",
        "outputId": "b5d8d55e-fe54-49df-e2d1-d742dc338f64"
      },
      "outputs": [
        {
          "name": "stdout",
          "output_type": "stream",
          "text": [
            "2 5\n"
          ]
        }
      ],
      "source": [
        "# Desafio troca de variaveis\n",
        "\n",
        "a = 5\n",
        "b = 2\n",
        "c = 0\n",
        "\n",
        "c = a\n",
        "a = b\n",
        "b = c\n",
        "\n",
        "print(a, b)"
      ]
    },
    {
      "cell_type": "code",
      "execution_count": null,
      "metadata": {
        "colab": {
          "base_uri": "https://localhost:8080/"
        },
        "id": "hbsd29EDlANj",
        "outputId": "695ac5b1-4fac-4cc4-863b-84327b5e53ab"
      },
      "outputs": [
        {
          "name": "stdout",
          "output_type": "stream",
          "text": [
            "25 M Renata\n"
          ]
        }
      ],
      "source": [
        "# Desafio troca de variaveis (Modo simultaneo)\n",
        "\n",
        "# a = 5\n",
        "# b = 2\n",
        "\n",
        "# a , b = b, a\n",
        "\n",
        "# print(a, b)\n",
        "\n",
        "nome = \"Renata\"\n",
        "idade = 25\n",
        "sexo = 'M'\n",
        "\n",
        "nome, idade, sexo = idade, sexo, nome\n",
        "print (nome, idade, sexo)"
      ]
    },
    {
      "cell_type": "code",
      "execution_count": null,
      "metadata": {
        "id": "PUQh-Bw5De1E"
      },
      "outputs": [],
      "source": [
        "x = 2\n",
        "y = 3\n",
        "z = x * y + y"
      ]
    },
    {
      "cell_type": "code",
      "execution_count": null,
      "metadata": {
        "colab": {
          "base_uri": "https://localhost:8080/"
        },
        "id": "IYuMdexRNkpN",
        "outputId": "08dd8137-fbdb-4d24-dc23-6ea8cf1e22b6"
      },
      "outputs": [
        {
          "name": "stdout",
          "output_type": "stream",
          "text": [
            "Digite a nota1:5\n",
            "Digite frequencia:5\n",
            "Reprovado\n"
          ]
        }
      ],
      "source": [
        "# variavel = 5\n",
        "# CONSTANTE = 7\n",
        "\n",
        "nota = float(input(\"Digite a nota1:\"))\n",
        "frequencia = int(input(\"Digite frequencia:\"))\n",
        "\n",
        "if nota > 6 and frequencia >= 75:\n",
        "    print('aprovado')\n",
        "else:\n",
        "    print('Reprovado')"
      ]
    },
    {
      "cell_type": "code",
      "execution_count": null,
      "metadata": {
        "colab": {
          "base_uri": "https://localhost:8080/"
        },
        "id": "qLzxONNjQKgt",
        "outputId": "dcbebf50-fe54-40fa-8712-1b6984550fd8"
      },
      "outputs": [
        {
          "name": "stdout",
          "output_type": "stream",
          "text": [
            "Digite a primeira nota:5\n",
            "Digite a segunda nota:5\n",
            "Aprovado\n"
          ]
        }
      ],
      "source": [
        "# DIAGRAMA MÉDIA\n",
        "\n",
        "nota1 = 0\n",
        "nota2 = 0\n",
        "media = 0\n",
        "\n",
        "nota1 = float(input(\"Digite a primeira nota:\"))\n",
        "nota2 = float(input(\"Digite a segunda nota:\"))\n",
        "\n",
        "media = (nota1 + nota2)/2\n",
        "\n",
        "if media >= 5:\n",
        "    print(\"Aprovado\")\n",
        "else:\n",
        "    print(\"Reprovado\")"
      ]
    },
    {
      "cell_type": "code",
      "execution_count": null,
      "metadata": {
        "id": "Xg9oS4QHhbLw"
      },
      "outputs": [],
      "source": [
        "# DIAGRAMA MÉDIA\n",
        "\n",
        "nota1 = 0\n",
        "nota2 = 0\n",
        "media = 0\n",
        "\n",
        "nota1 = float(input(\"Digite a primeira nota:\"))\n",
        "nota2 = float(input(\"Digite a segunda nota:\"))\n",
        "\n",
        "media = (nota1 + nota2)/2\n",
        "\n",
        "print(\"Aprovado\" if media >= 5 else \"Reprovado\")"
      ]
    },
    {
      "cell_type": "code",
      "execution_count": null,
      "metadata": {
        "id": "hVnHqHTSmVx5"
      },
      "outputs": [],
      "source": [
        "# EXEMPLO 01\n",
        "\n",
        "\n",
        "nota = 49\n",
        "ausencia = 15\n",
        "\n",
        "\n",
        "if nota >= 50 and ausencia <= 15:\n",
        "    print(\"Aprovado\")\n",
        "else:\n",
        "    print(\"Reprovado\")"
      ]
    },
    {
      "cell_type": "code",
      "execution_count": null,
      "metadata": {
        "id": "Jra5sGaoQJ2k"
      },
      "outputs": [],
      "source": [
        "\n",
        "# Operadores aritméticos\n",
        "\n",
        "a = 10\n",
        "b = 3\n",
        "\n",
        "print(a +  b)     # 13      (adição)\n",
        "print(a -  b)     # 7       (subtração)\n",
        "print(a *  b)     # 30      (multiplicação)\n",
        "print(a /  b)     # 3.3333  (divisão)\n",
        "print(a // b)     # 3       (divisão inteira)\n",
        "print(a %  b)     # 1       (módulo/resto da divisão)\n",
        "print(a ** b)     # 1000    (exponenciação)\n",
        "print(a ** (1/b)) # 2.14    (radiciação)"
      ]
    },
    {
      "cell_type": "code",
      "execution_count": null,
      "metadata": {
        "colab": {
          "base_uri": "https://localhost:8080/"
        },
        "id": "tDN9R_tYXfUc",
        "outputId": "5ceea6c9-cf79-406d-d094-e8610130aad2"
      },
      "outputs": [
        {
          "name": "stdout",
          "output_type": "stream",
          "text": [
            "False\n",
            "True\n",
            "True\n",
            "False\n",
            "True\n",
            "False\n"
          ]
        }
      ],
      "source": [
        "# Operadores relacionais ou de comparação\n",
        "\n",
        "\n",
        "a = 10\n",
        "b = 3\n",
        "\n",
        "\n",
        "print(a == b)  # False  Igual\n",
        "print(a != b)  # True   Diferente\n",
        "print(a >  b)  # True   Maior\n",
        "print(a <  b)  # False  Menor\n",
        "print(a >= b)  # True   Maior ou igual\n",
        "print(a <= b)  # False  Menor ou igual"
      ]
    },
    {
      "cell_type": "code",
      "execution_count": null,
      "metadata": {
        "id": "jY5QZZtkX9QM"
      },
      "outputs": [],
      "source": []
    },
    {
      "cell_type": "code",
      "execution_count": null,
      "metadata": {
        "id": "ImFmhVfff79m"
      },
      "outputs": [],
      "source": [
        "# Operadores lógicos\n",
        "\n",
        "\n",
        "a = True\n",
        "b = False\n",
        "\n",
        "\n",
        "print(a and b)  # False\n",
        "print(a or b)   # True\n",
        "print(not a)    # False"
      ]
    },
    {
      "cell_type": "code",
      "execution_count": null,
      "metadata": {
        "id": "OA352VK_hglV"
      },
      "outputs": [],
      "source": [
        "# Operadores de atribuição\n",
        "\n",
        "\n",
        "a = 10\n",
        "a += 2  # a = a + 2\n",
        "print(a) # 12\n",
        "\n",
        "\n",
        "b = 10\n",
        "b -= 2  # b = b - 2\n",
        "print(b) # 8\n",
        "\n",
        "\n",
        "c = 10\n",
        "c *= c  # c = c * c\n",
        "print(c) # 100\n",
        "\n",
        "\n",
        "d = 10\n",
        "d /= 2 # d = d / 2\n",
        "print(d) # 5.0\n",
        "\n",
        "\n",
        "d = 10\n",
        "d **= 2 # d = d ** 2\n",
        "print(d) # 100\n",
        "\n",
        "\n",
        "d = 10\n",
        "d //= 2\n",
        "print(d)\n",
        "\n",
        "\n",
        "d = 10\n",
        "d %= 2\n",
        "print(d) # 5.0\n"
      ]
    },
    {
      "cell_type": "code",
      "execution_count": null,
      "metadata": {
        "id": "baEiSWvzhimW"
      },
      "outputs": [],
      "source": [
        "# EXPRESSÕES\n",
        "\"\"\"\n",
        "1) PARÊNTESES\n",
        "2) POTÊNCIA E RAIZ\n",
        "3) MULTIPLICAÇÃO E DIVISÃO\n",
        "4) ADIÇÃO E SUBTRAÇÃO\n",
        "\"\"\"\n",
        "print(2+2*5**2)\n",
        "print((2+2)*5**2)\n",
        "print(((2+2)*5)**2)"
      ]
    },
    {
      "cell_type": "code",
      "execution_count": null,
      "metadata": {
        "colab": {
          "base_uri": "https://localhost:8080/"
        },
        "id": "TovPPBHqh_is",
        "outputId": "d6aa9617-8566-412f-af56-f293f39d31ca"
      },
      "outputs": [
        {
          "output_type": "stream",
          "name": "stdout",
          "text": [
            "Original 30\n",
            "Refatorado 30\n"
          ]
        }
      ],
      "source": [
        "# REFATORAÇÃO DE CÓDIGO\n",
        "\n",
        "# ORIGINAL\n",
        "a = 10\n",
        "b = 20\n",
        "c = a+b\n",
        "print('Original', c)\n",
        "\n",
        "# REFATORADO\n",
        "def soma(x, y):\n",
        "    return x+y\n",
        "\n",
        "print('Refatorado', soma(10, 20))"
      ]
    },
    {
      "cell_type": "code",
      "source": [],
      "metadata": {
        "id": "Ze6E5cSem6Zs"
      },
      "execution_count": null,
      "outputs": []
    }
  ],
  "metadata": {
    "colab": {
      "provenance": [],
      "authorship_tag": "ABX9TyPYBR1i++8DzmnXWg5x/da1",
      "include_colab_link": true
    },
    "kernelspec": {
      "display_name": "Python 3",
      "name": "python3"
    },
    "language_info": {
      "name": "python"
    }
  },
  "nbformat": 4,
  "nbformat_minor": 0
}